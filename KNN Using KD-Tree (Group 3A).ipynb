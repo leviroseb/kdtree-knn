{
 "cells": [
  {
   "cell_type": "markdown",
   "metadata": {},
   "source": [
    "# KNN Using KD-Tree (Group 3A)"
   ]
  },
  {
   "cell_type": "markdown",
   "metadata": {},
   "source": [
    "### Mostrando la Base de datos"
   ]
  },
  {
   "cell_type": "code",
   "execution_count": 3,
   "metadata": {},
   "outputs": [
    {
     "data": {
      "text/plain": [
       "(10000, 6)"
      ]
     },
     "execution_count": 3,
     "metadata": {},
     "output_type": "execute_result"
    }
   ],
   "source": [
    "import pandas as pd\n",
    "\n",
    "df = pd.read_csv('Orange vs Grapefruit.csv')\n",
    "df\n",
    "\n",
    "df.shape"
   ]
  },
  {
   "cell_type": "code",
   "execution_count": 4,
   "metadata": {},
   "outputs": [
    {
     "data": {
      "text/html": [
       "<div>\n",
       "<style scoped>\n",
       "    .dataframe tbody tr th:only-of-type {\n",
       "        vertical-align: middle;\n",
       "    }\n",
       "\n",
       "    .dataframe tbody tr th {\n",
       "        vertical-align: top;\n",
       "    }\n",
       "\n",
       "    .dataframe thead th {\n",
       "        text-align: right;\n",
       "    }\n",
       "</style>\n",
       "<table border=\"1\" class=\"dataframe\">\n",
       "  <thead>\n",
       "    <tr style=\"text-align: right;\">\n",
       "      <th></th>\n",
       "      <th>diameter</th>\n",
       "      <th>weight</th>\n",
       "      <th>red</th>\n",
       "      <th>green</th>\n",
       "      <th>blue</th>\n",
       "    </tr>\n",
       "  </thead>\n",
       "  <tbody>\n",
       "    <tr>\n",
       "      <th>count</th>\n",
       "      <td>10000.000000</td>\n",
       "      <td>10000.000000</td>\n",
       "      <td>10000.000000</td>\n",
       "      <td>10000.000000</td>\n",
       "      <td>10000.000000</td>\n",
       "    </tr>\n",
       "    <tr>\n",
       "      <th>mean</th>\n",
       "      <td>9.975685</td>\n",
       "      <td>175.050792</td>\n",
       "      <td>153.847800</td>\n",
       "      <td>76.010600</td>\n",
       "      <td>11.363200</td>\n",
       "    </tr>\n",
       "    <tr>\n",
       "      <th>std</th>\n",
       "      <td>1.947844</td>\n",
       "      <td>29.212119</td>\n",
       "      <td>10.432954</td>\n",
       "      <td>11.708433</td>\n",
       "      <td>9.061275</td>\n",
       "    </tr>\n",
       "    <tr>\n",
       "      <th>min</th>\n",
       "      <td>2.960000</td>\n",
       "      <td>86.760000</td>\n",
       "      <td>115.000000</td>\n",
       "      <td>31.000000</td>\n",
       "      <td>2.000000</td>\n",
       "    </tr>\n",
       "    <tr>\n",
       "      <th>25%</th>\n",
       "      <td>8.460000</td>\n",
       "      <td>152.220000</td>\n",
       "      <td>147.000000</td>\n",
       "      <td>68.000000</td>\n",
       "      <td>2.000000</td>\n",
       "    </tr>\n",
       "    <tr>\n",
       "      <th>50%</th>\n",
       "      <td>9.980000</td>\n",
       "      <td>174.985000</td>\n",
       "      <td>154.000000</td>\n",
       "      <td>76.000000</td>\n",
       "      <td>10.000000</td>\n",
       "    </tr>\n",
       "    <tr>\n",
       "      <th>75%</th>\n",
       "      <td>11.480000</td>\n",
       "      <td>197.722500</td>\n",
       "      <td>161.000000</td>\n",
       "      <td>84.000000</td>\n",
       "      <td>17.000000</td>\n",
       "    </tr>\n",
       "    <tr>\n",
       "      <th>max</th>\n",
       "      <td>16.450000</td>\n",
       "      <td>261.510000</td>\n",
       "      <td>192.000000</td>\n",
       "      <td>116.000000</td>\n",
       "      <td>56.000000</td>\n",
       "    </tr>\n",
       "  </tbody>\n",
       "</table>\n",
       "</div>"
      ],
      "text/plain": [
       "           diameter        weight           red         green          blue\n",
       "count  10000.000000  10000.000000  10000.000000  10000.000000  10000.000000\n",
       "mean       9.975685    175.050792    153.847800     76.010600     11.363200\n",
       "std        1.947844     29.212119     10.432954     11.708433      9.061275\n",
       "min        2.960000     86.760000    115.000000     31.000000      2.000000\n",
       "25%        8.460000    152.220000    147.000000     68.000000      2.000000\n",
       "50%        9.980000    174.985000    154.000000     76.000000     10.000000\n",
       "75%       11.480000    197.722500    161.000000     84.000000     17.000000\n",
       "max       16.450000    261.510000    192.000000    116.000000     56.000000"
      ]
     },
     "execution_count": 4,
     "metadata": {},
     "output_type": "execute_result"
    }
   ],
   "source": [
    "df.describe()"
   ]
  },
  {
   "cell_type": "code",
   "execution_count": 6,
   "metadata": {},
   "outputs": [
    {
     "name": "stdout",
     "output_type": "stream",
     "text": [
      "['orange' 'grapefruit']\n"
     ]
    }
   ],
   "source": [
    "fname = df['name'].unique()\n",
    "print(fname[0:2])\n",
    "#type(fname)"
   ]
  },
  {
   "cell_type": "code",
   "execution_count": 8,
   "metadata": {},
   "outputs": [
    {
     "data": {
      "text/plain": [
       "name\n",
       "orange        5000\n",
       "grapefruit    5000\n",
       "dtype: int64"
      ]
     },
     "execution_count": 8,
     "metadata": {},
     "output_type": "execute_result"
    }
   ],
   "source": [
    "fsize = df.groupby('name',sort=False).size()\n",
    "fsize\n",
    "#type(fsize)"
   ]
  },
  {
   "cell_type": "code",
   "execution_count": 7,
   "metadata": {},
   "outputs": [
    {
     "data": {
      "text/html": [
       "<div>\n",
       "<style scoped>\n",
       "    .dataframe tbody tr th:only-of-type {\n",
       "        vertical-align: middle;\n",
       "    }\n",
       "\n",
       "    .dataframe tbody tr th {\n",
       "        vertical-align: top;\n",
       "    }\n",
       "\n",
       "    .dataframe thead th {\n",
       "        text-align: right;\n",
       "    }\n",
       "</style>\n",
       "<table border=\"1\" class=\"dataframe\">\n",
       "  <thead>\n",
       "    <tr style=\"text-align: right;\">\n",
       "      <th></th>\n",
       "      <th>name</th>\n",
       "      <th>diameter</th>\n",
       "      <th>weight</th>\n",
       "      <th>red</th>\n",
       "      <th>green</th>\n",
       "      <th>blue</th>\n",
       "    </tr>\n",
       "  </thead>\n",
       "  <tbody>\n",
       "    <tr>\n",
       "      <th>0</th>\n",
       "      <td>orange</td>\n",
       "      <td>2.96</td>\n",
       "      <td>86.76</td>\n",
       "      <td>172</td>\n",
       "      <td>85</td>\n",
       "      <td>2</td>\n",
       "    </tr>\n",
       "    <tr>\n",
       "      <th>1</th>\n",
       "      <td>orange</td>\n",
       "      <td>3.91</td>\n",
       "      <td>88.05</td>\n",
       "      <td>166</td>\n",
       "      <td>78</td>\n",
       "      <td>3</td>\n",
       "    </tr>\n",
       "    <tr>\n",
       "      <th>2</th>\n",
       "      <td>orange</td>\n",
       "      <td>4.42</td>\n",
       "      <td>95.17</td>\n",
       "      <td>156</td>\n",
       "      <td>81</td>\n",
       "      <td>2</td>\n",
       "    </tr>\n",
       "    <tr>\n",
       "      <th>3</th>\n",
       "      <td>orange</td>\n",
       "      <td>4.47</td>\n",
       "      <td>95.60</td>\n",
       "      <td>163</td>\n",
       "      <td>81</td>\n",
       "      <td>4</td>\n",
       "    </tr>\n",
       "    <tr>\n",
       "      <th>4</th>\n",
       "      <td>orange</td>\n",
       "      <td>4.48</td>\n",
       "      <td>95.76</td>\n",
       "      <td>161</td>\n",
       "      <td>72</td>\n",
       "      <td>9</td>\n",
       "    </tr>\n",
       "  </tbody>\n",
       "</table>\n",
       "</div>"
      ],
      "text/plain": [
       "     name  diameter  weight  red  green  blue\n",
       "0  orange      2.96   86.76  172     85     2\n",
       "1  orange      3.91   88.05  166     78     3\n",
       "2  orange      4.42   95.17  156     81     2\n",
       "3  orange      4.47   95.60  163     81     4\n",
       "4  orange      4.48   95.76  161     72     9"
      ]
     },
     "execution_count": 7,
     "metadata": {},
     "output_type": "execute_result"
    }
   ],
   "source": [
    "df.head(5)"
   ]
  },
  {
   "cell_type": "markdown",
   "metadata": {},
   "source": [
    "#### Cantidad de Datos"
   ]
  },
  {
   "cell_type": "code",
   "execution_count": 9,
   "metadata": {},
   "outputs": [
    {
     "data": {
      "image/png": "[encoded data removed]",
      "text/plain": [
       "<Figure size 432x288 with 1 Axes>"
      ]
     },
     "metadata": {
      "needs_background": "light"
     },
     "output_type": "display_data"
    }
   ],
   "source": [
    "import matplotlib.pyplot as plt\n",
    "plt.bar(fname,fsize,color = ['orange','turquoise'])\n",
    "plt.xlabel('Fruit Name')\n",
    "plt.ylabel('Fruit Count')\n",
    "plt.title('Fruits with Color Dataset')\n",
    "plt.show()"
   ]
  },
  {
   "cell_type": "markdown",
   "metadata": {},
   "source": [
    "#### Datos ubicados por color (RGB)"
   ]
  },
  {
   "cell_type": "code",
   "execution_count": 10,
   "metadata": {},
   "outputs": [
    {
     "data": {
      "image/png": "[encoded data removed]",
      "text/plain": [
       "<Figure size 432x288 with 1 Axes>"
      ]
     },
     "metadata": {
      "needs_background": "light"
     },
     "output_type": "display_data"
    }
   ],
   "source": [
    "from mpl_toolkits.mplot3d import axes3d\n",
    "fig = plt.figure()\n",
    "ax = fig.add_subplot(111,projection='3d') \n",
    "ax.scatter(df['red'],df['green'],df['blue'])\n",
    "ax.set_xlabel('Red')\n",
    "ax.set_ylabel('Green')\n",
    "ax.set_zlabel('Blue')\n",
    "plt.show()"
   ]
  },
  {
   "cell_type": "markdown",
   "metadata": {},
   "source": [
    "### Nuestra implemetacion del KD-Tree"
   ]
  },
  {
   "cell_type": "code",
   "execution_count": 16,
   "metadata": {},
   "outputs": [],
   "source": [
    "import random\n",
    "import math"
   ]
  },
  {
   "cell_type": "code",
   "execution_count": 26,
   "metadata": {},
   "outputs": [],
   "source": [
    "k = 5\n",
    "class Node:\n",
    "    def __init__(self,point,axis,clase):\n",
    "        self.point = point\n",
    "        self.left = None\n",
    "        self.right = None\n",
    "        self.axis = axis\n",
    "        self.clase = clase\n",
    "\n",
    "def getHeight(node):\n",
    "    if(node==None):\n",
    "        return 0\n",
    "    else:\n",
    "        return max(getHeight(node.left),getHeight(node.right)) + 1\n",
    "    \n",
    "#(0,1,2,3,4,Label)\n",
    "\n",
    "def build_kdtree(points,depth=0):\n",
    "    n = len(points)\n",
    "    axis = depth % k\n",
    "    if(n<=0):\n",
    "        return None\n",
    "    if(n==1):\n",
    "        return Node(points[0],axis,points[0][k])\n",
    "    points.sort(key=lambda point: point[axis])\n",
    "    median = len(points)//2\n",
    "\n",
    "    node = Node(points[median],axis,points[median][k])\n",
    "    node.left = build_kdtree(points[:median],depth + 1)\n",
    "    node.right = build_kdtree(points[median+1:], depth + 1)\n",
    "    #print(\"build\")\n",
    "    return node\n",
    "\n",
    "def distanceSquared(point1,point2):\n",
    "    distance = 0\n",
    "    for i in range(k):\n",
    "        distance+=math.pow(point1[i]-point2[i],2)\n",
    "    return math.sqrt(distance)\n",
    "\n",
    "def order(queue):\n",
    "    for i in range (len(queue)):\n",
    "        j = i+1\n",
    "        for j in range (len(queue)):\n",
    "            if (queue[i][0]>queue[j][0]) :\n",
    "                temp=queue[i]\n",
    "                queue[i]=queue[j]\n",
    "                queue[j]=temp\n",
    "\n",
    "def priority_queue(queue,point,count):\n",
    "    if (len(queue)<count):\n",
    "        queue.append(point)\n",
    "        sorted(queue,key=lambda point: point[0])\n",
    "    else:\n",
    "        for i in range (len(queue)):\n",
    "            if (queue[i][0]>point[0]):\n",
    "                temp=queue[i]\n",
    "                queue[i]=point\n",
    "                point=temp\n",
    "\n",
    "def Knearest(node,point,k):\n",
    "    quever=[]\n",
    "    k_nearest_point(node,point,quever,k);\n",
    "    #print(quever)\n",
    "    indices=[]\n",
    "    for i in range (len(quever)):\n",
    "        indices.append(quever[i][1])\n",
    "    clases= []\n",
    "    tipo=\"\"\n",
    "    for nodo in indices:\n",
    "        clase = nodo[5]\n",
    "        if clase =='grapefruit':\n",
    "            tipo=\"grapefruit\"\n",
    "        if clase == 'orange':\n",
    "            tipo=\"orange\"\n",
    "        clases.append(tipo)\n",
    "    return clases\n",
    "\n",
    "def k_nearest_point( node , point , queue, k):\n",
    "    if ( node == None ):\n",
    "        return\n",
    "    axis = node.axis\n",
    "    dist=distanceSquared(point,node.point)\n",
    "    priority_queue(queue,[dist,node.point],k)\n",
    "    next_branch = None\n",
    "    opposite_branch = None\n",
    "    if (point[axis]<node.point[axis]):\n",
    "        next_branch=node.left\n",
    "        opposite_branch=node.right\n",
    "    else:\n",
    "        next_branch=node.right\n",
    "        opposite_branch=node.left\n",
    "    k_nearest_point(next_branch,point,queue,k)\n",
    "    if(len(queue)<k or queue[0][0]>abs(point[axis]-node.point[axis])):\n",
    "        k_nearest_point(opposite_branch,point,queue,k)\n",
    "        \n",
    "def most_frequent(List): \n",
    "    return max(set(List), key = List.count)"
   ]
  },
  {
   "cell_type": "markdown",
   "metadata": {},
   "source": [
    "### Construyendo el KD-Tree"
   ]
  },
  {
   "cell_type": "code",
   "execution_count": 12,
   "metadata": {},
   "outputs": [],
   "source": [
    "Y=df['name']\n",
    "D1=df['diameter']\n",
    "D2=df['weight']\n",
    "R=df['red']\n",
    "G=df['green']\n",
    "B=df['blue']\n",
    "\n",
    "X=[D1,D2,R,G,B,Y]\n",
    "Points=[]\n",
    "for i in range(10000):\n",
    "    aux=(X[0][i],X[1][i],X[2][i],X[3][i],X[4][i],X[5][i])\n",
    "    Points.append(aux)\n",
    "X=Points"
   ]
  },
  {
   "cell_type": "code",
   "execution_count": 13,
   "metadata": {},
   "outputs": [],
   "source": [
    "from sklearn.model_selection import train_test_split\n",
    "x_train,x_test = train_test_split(X,random_state = 0)"
   ]
  },
  {
   "cell_type": "code",
   "execution_count": 14,
   "metadata": {},
   "outputs": [],
   "source": [
    "kdtree=build_kdtree(x_train)"
   ]
  },
  {
   "cell_type": "code",
   "execution_count": 28,
   "metadata": {},
   "outputs": [
    {
     "name": "stdout",
     "output_type": "stream",
     "text": [
      "Test Point (11.92, 204.7, 159, 65, 15, 'grapefruit')\n"
     ]
    }
   ],
   "source": [
    "queue=Knearest(kdtree,x_test[5],7)\n",
    "print('Test Point : ',x_test[5])"
   ]
  },
  {
   "cell_type": "code",
   "execution_count": 31,
   "metadata": {
    "scrolled": true
   },
   "outputs": [
    {
     "name": "stdout",
     "output_type": "stream",
     "text": [
      "sisis :  grapefruit\n"
     ]
    }
   ],
   "source": [
    "if (most_frequent(queue)==x_test[5][5]):\n",
    "    print(\"Result : \",most_frequent(queue))"
   ]
  },
  {
   "cell_type": "markdown",
   "metadata": {},
   "source": [
    "### Canculando el Score accuracy "
   ]
  },
  {
   "cell_type": "code",
   "execution_count": 35,
   "metadata": {},
   "outputs": [
    {
     "name": "stdout",
     "output_type": "stream",
     "text": [
      "Accuracy :  0.9148\n"
     ]
    }
   ],
   "source": [
    "success_cases=0\n",
    "for i in range(len(x_test)):\n",
    "    if (most_frequent(Knearest(kdtree,x_test[i],7))==x_test[i][5]):\n",
    "        success_cases+=1\n",
    "print(\"Accuracy : \",success_cases/len(x_test))"
   ]
  },
  {
   "cell_type": "code",
   "execution_count": null,
   "metadata": {},
   "outputs": [],
   "source": []
  }
 ],
 "metadata": {
  "kernelspec": {
   "display_name": "Python [conda env:AndrioEvn] *",
   "language": "python",
   "name": "conda-env-AndrioEvn-py"
  },
  "language_info": {
   "codemirror_mode": {
    "name": "ipython",
    "version": 3
   },
   "file_extension": ".py",
   "mimetype": "text/x-python",
   "name": "python",
   "nbconvert_exporter": "python",
   "pygments_lexer": "ipython3",
   "version": "3.7.7"
  }
 },
 "nbformat": 4,
 "nbformat_minor": 4
}
